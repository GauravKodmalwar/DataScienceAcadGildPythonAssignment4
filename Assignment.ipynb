{
 "cells": [
  {
   "cell_type": "markdown",
   "metadata": {},
   "source": [
    "<h3>\n",
    "    Task 1 <br> <br>\n",
    "    Given a sequence of n values [x1, x2... xn]. The kth moving avarge of given sequence is defined as following:\n",
    "    Total values in output will array of size n - k + 1\n",
    "    Every individual output value will be (sum of first kth values)/k\n",
    "    For next value, it will increment to next element (sum of kth values from 2nd value)/k\n",
    "    </h3>"
   ]
  },
  {
   "cell_type": "code",
   "execution_count": 44,
   "metadata": {},
   "outputs": [],
   "source": [
    "import numpy as np\n",
    "n = [10, 20, 30, 40, 50, 60, 70, 80, 90, 100]\n",
    "k = 4\n",
    "npArray1 = np.array(n)"
   ]
  },
  {
   "cell_type": "code",
   "execution_count": 45,
   "metadata": {},
   "outputs": [],
   "source": [
    "def movingAverage(array1, AverageSize):\n",
    "    size = array1.shape[0]-AverageSize\n",
    "    emptyArray1 = np.empty(size)\n",
    "    \n",
    "    for i in range(size):\n",
    "        emptyArray1[i] = npArray1[i:i+AverageSize].sum()\n",
    "    return emptyArray1"
   ]
  },
  {
   "cell_type": "code",
   "execution_count": 46,
   "metadata": {},
   "outputs": [
    {
     "data": {
      "text/plain": [
       "array([100., 140., 180., 220., 260., 300.])"
      ]
     },
     "execution_count": 46,
     "metadata": {},
     "output_type": "execute_result"
    }
   ],
   "source": [
    "movingAverage(npArray1, k)"
   ]
  },
  {
   "cell_type": "code",
   "execution_count": 48,
   "metadata": {},
   "outputs": [
    {
     "name": "stdout",
     "output_type": "stream",
     "text": [
      "Output for testing purpose: \n"
     ]
    },
    {
     "data": {
      "text/plain": [
       "array([ 60.,  90., 120., 150., 180., 210., 240., 270., 190., 100.])"
      ]
     },
     "execution_count": 48,
     "metadata": {},
     "output_type": "execute_result"
    }
   ],
   "source": [
    "print('Output for testing purpose: ')\n",
    "npArray12 = np.array([3,5,7,2,8,10,11,65,72,81,99,100,150])\n",
    "movingAverage(npArray12, 3)"
   ]
  },
  {
   "cell_type": "markdown",
   "metadata": {},
   "source": [
    "<h3>\n",
    "Task 2 - 1 <br> <br>\n",
    "How to count distance to the previous zero\n",
    "For each value, count the difference back to the previous zero (or start of the index, whichever is closer)    \n",
    "</h3>"
   ]
  },
  {
   "cell_type": "code",
   "execution_count": 1,
   "metadata": {},
   "outputs": [],
   "source": [
    "import pandas as pd"
   ]
  },
  {
   "cell_type": "code",
   "execution_count": 17,
   "metadata": {},
   "outputs": [
    {
     "data": {
      "text/plain": [
       "(10, 1)"
      ]
     },
     "execution_count": 17,
     "metadata": {},
     "output_type": "execute_result"
    }
   ],
   "source": [
    "x = pd.DataFrame({\"X\": [7,2,0,3,4,2,5,0,3,4]})\n",
    "x.shape"
   ]
  },
  {
   "cell_type": "code",
   "execution_count": 19,
   "metadata": {},
   "outputs": [
    {
     "name": "stdout",
     "output_type": "stream",
     "text": [
      "Input column is X and output or nearest zero is in Y column\n"
     ]
    },
    {
     "data": {
      "text/html": [
       "<div>\n",
       "<style scoped>\n",
       "    .dataframe tbody tr th:only-of-type {\n",
       "        vertical-align: middle;\n",
       "    }\n",
       "\n",
       "    .dataframe tbody tr th {\n",
       "        vertical-align: top;\n",
       "    }\n",
       "\n",
       "    .dataframe thead th {\n",
       "        text-align: right;\n",
       "    }\n",
       "</style>\n",
       "<table border=\"1\" class=\"dataframe\">\n",
       "  <thead>\n",
       "    <tr style=\"text-align: right;\">\n",
       "      <th></th>\n",
       "      <th>X</th>\n",
       "      <th>Y</th>\n",
       "    </tr>\n",
       "  </thead>\n",
       "  <tbody>\n",
       "    <tr>\n",
       "      <th>0</th>\n",
       "      <td>7</td>\n",
       "      <td>0</td>\n",
       "    </tr>\n",
       "    <tr>\n",
       "      <th>1</th>\n",
       "      <td>2</td>\n",
       "      <td>1</td>\n",
       "    </tr>\n",
       "    <tr>\n",
       "      <th>2</th>\n",
       "      <td>0</td>\n",
       "      <td>0</td>\n",
       "    </tr>\n",
       "    <tr>\n",
       "      <th>3</th>\n",
       "      <td>3</td>\n",
       "      <td>1</td>\n",
       "    </tr>\n",
       "    <tr>\n",
       "      <th>4</th>\n",
       "      <td>4</td>\n",
       "      <td>2</td>\n",
       "    </tr>\n",
       "    <tr>\n",
       "      <th>5</th>\n",
       "      <td>2</td>\n",
       "      <td>3</td>\n",
       "    </tr>\n",
       "    <tr>\n",
       "      <th>6</th>\n",
       "      <td>5</td>\n",
       "      <td>4</td>\n",
       "    </tr>\n",
       "    <tr>\n",
       "      <th>7</th>\n",
       "      <td>0</td>\n",
       "      <td>0</td>\n",
       "    </tr>\n",
       "    <tr>\n",
       "      <th>8</th>\n",
       "      <td>3</td>\n",
       "      <td>1</td>\n",
       "    </tr>\n",
       "    <tr>\n",
       "      <th>9</th>\n",
       "      <td>4</td>\n",
       "      <td>2</td>\n",
       "    </tr>\n",
       "  </tbody>\n",
       "</table>\n",
       "</div>"
      ],
      "text/plain": [
       "   X  Y\n",
       "0  7  0\n",
       "1  2  1\n",
       "2  0  0\n",
       "3  3  1\n",
       "4  4  2\n",
       "5  2  3\n",
       "6  5  4\n",
       "7  0  0\n",
       "8  3  1\n",
       "9  4  2"
      ]
     },
     "execution_count": 19,
     "metadata": {},
     "output_type": "execute_result"
    }
   ],
   "source": [
    "temp = 0\n",
    "x['Y'] = 0\n",
    "\n",
    "for k in x.index:\n",
    "    if x['X'].loc[k]==0:\n",
    "        x['Y'].loc[k] = 0\n",
    "        temp = k\n",
    "    else:\n",
    "        x['Y'].loc[k] = k - temp\n",
    "\n",
    "print(\"Input column is X and output or nearest zero is in Y column\")\n",
    "x"
   ]
  },
  {
   "cell_type": "markdown",
   "metadata": {},
   "source": [
    "<h3>\n",
    "Task 2 - 2 <br> <br>\n",
    "    Create a date time index that contains each business day of 2015 and use it to index a Series of random numbers.\n",
    "</h3>"
   ]
  },
  {
   "cell_type": "code",
   "execution_count": 220,
   "metadata": {},
   "outputs": [],
   "source": [
    "import pandas as pd\n",
    "import numpy as np"
   ]
  },
  {
   "cell_type": "code",
   "execution_count": 221,
   "metadata": {},
   "outputs": [],
   "source": [
    "varSeries = pd.DataFrame()\n",
    "varNoOfDays = np.arange(0,365,1)\n",
    "temp = pd.to_datetime(varNoOfDays, unit='d', origin = pd.Timestamp('01/Jan/2015'))\n",
    "varSeries['DateTime'] = temp\n",
    "varSeries['Month'] = temp.month\n",
    "varSeries['Quarter'] = temp.quarter\n",
    "varSeries['NOofDays'] = varNoOfDays"
   ]
  },
  {
   "cell_type": "code",
   "execution_count": 222,
   "metadata": {},
   "outputs": [],
   "source": [
    "varSeries['IsBusinessday'] = temp.weekday.values\n",
    "varSeries2 = varSeries[(varSeries.IsBusinessday != 6) & (varSeries.IsBusinessday != 5)]"
   ]
  },
  {
   "cell_type": "code",
   "execution_count": 223,
   "metadata": {},
   "outputs": [
    {
     "name": "stderr",
     "output_type": "stream",
     "text": [
      "C:\\ProgramData\\Anaconda3\\lib\\site-packages\\ipykernel_launcher.py:3: SettingWithCopyWarning: \n",
      "A value is trying to be set on a copy of a slice from a DataFrame.\n",
      "Try using .loc[row_indexer,col_indexer] = value instead\n",
      "\n",
      "See the caveats in the documentation: http://pandas.pydata.org/pandas-docs/stable/indexing.html#indexing-view-versus-copy\n",
      "  This is separate from the ipykernel package so we can avoid doing imports until\n"
     ]
    },
    {
     "data": {
      "text/plain": [
       "<bound method NDFrame.describe of             Month  Quarter  RandomNo  IsBusinessday\n",
       "DateTime                                           \n",
       "2015-01-01      1        1       617              3\n",
       "2015-01-02      1        1        13              4\n",
       "2015-01-05      1        1        28              0\n",
       "2015-01-06      1        1       373              1\n",
       "2015-01-07      1        1       610              2\n",
       "2015-01-08      1        1       852              3\n",
       "2015-01-09      1        1       397              4\n",
       "2015-01-12      1        1       908              0\n",
       "2015-01-13      1        1       153              1\n",
       "2015-01-14      1        1       108              2\n",
       "2015-01-15      1        1       828              3\n",
       "2015-01-16      1        1       209              4\n",
       "2015-01-19      1        1       765              0\n",
       "2015-01-20      1        1       713              1\n",
       "2015-01-21      1        1       739              2\n",
       "2015-01-22      1        1       762              3\n",
       "2015-01-23      1        1       214              4\n",
       "2015-01-26      1        1       245              0\n",
       "2015-01-27      1        1       726              1\n",
       "2015-01-28      1        1       622              2\n",
       "2015-01-29      1        1       920              3\n",
       "2015-01-30      1        1        49              4\n",
       "2015-02-02      2        1       405              0\n",
       "2015-02-03      2        1       264              1\n",
       "2015-02-04      2        1       348              2\n",
       "2015-02-05      2        1       176              3\n",
       "2015-02-06      2        1       539              4\n",
       "2015-02-09      2        1       222              0\n",
       "2015-02-10      2        1       927              1\n",
       "2015-02-11      2        1       706              2\n",
       "...           ...      ...       ...            ...\n",
       "2015-11-20     11        4       726              4\n",
       "2015-11-23     11        4       108              0\n",
       "2015-11-24     11        4       310              1\n",
       "2015-11-25     11        4       801              2\n",
       "2015-11-26     11        4       656              3\n",
       "2015-11-27     11        4       556              4\n",
       "2015-11-30     11        4       744              0\n",
       "2015-12-01     12        4       723              1\n",
       "2015-12-02     12        4       994              2\n",
       "2015-12-03     12        4       334              3\n",
       "2015-12-04     12        4       604              4\n",
       "2015-12-07     12        4       375              0\n",
       "2015-12-08     12        4       980              1\n",
       "2015-12-09     12        4       515              2\n",
       "2015-12-10     12        4       522              3\n",
       "2015-12-11     12        4       601              4\n",
       "2015-12-14     12        4       269              0\n",
       "2015-12-15     12        4         4              1\n",
       "2015-12-16     12        4        99              2\n",
       "2015-12-17     12        4       233              3\n",
       "2015-12-18     12        4       795              4\n",
       "2015-12-21     12        4        29              0\n",
       "2015-12-22     12        4       758              1\n",
       "2015-12-23     12        4       937              2\n",
       "2015-12-24     12        4       303              3\n",
       "2015-12-25     12        4       874              4\n",
       "2015-12-28     12        4       970              0\n",
       "2015-12-29     12        4       604              1\n",
       "2015-12-30     12        4        89              2\n",
       "2015-12-31     12        4       794              3\n",
       "\n",
       "[261 rows x 4 columns]>"
      ]
     },
     "execution_count": 223,
     "metadata": {},
     "output_type": "execute_result"
    }
   ],
   "source": [
    "varSeries2.rename(index=str, columns={'NOofDays': 'RandomNo'}, inplace=True)\n",
    "varSeries2.set_index('DateTime',inplace=True)\n",
    "varSeries2['RandomNo'] = np.random.randint(1,999,size=varSeries2.shape[0]) \n",
    "varSeries2.describe"
   ]
  },
  {
   "cell_type": "markdown",
   "metadata": {},
   "source": [
    "<h3>\n",
    " Task 2 - 3 <br>\n",
    "    Find sum of the values in series for every 'Wednesday\n",
    "</h3>"
   ]
  },
  {
   "cell_type": "code",
   "execution_count": 190,
   "metadata": {},
   "outputs": [
    {
     "data": {
      "text/plain": [
       "25280"
      ]
     },
     "execution_count": 190,
     "metadata": {},
     "output_type": "execute_result"
    }
   ],
   "source": [
    "wedSum = varSeries2[varSeries2.IsBusinessday == 2].RandomNo.sum()\n",
    "wedSum"
   ]
  },
  {
   "cell_type": "markdown",
   "metadata": {},
   "source": [
    "<h3>\n",
    "Task 2 - 4 <br>\n",
    "    Average for each calendar month\n",
    "</h3>"
   ]
  },
  {
   "cell_type": "code",
   "execution_count": 216,
   "metadata": {},
   "outputs": [
    {
     "name": "stdout",
     "output_type": "stream",
     "text": [
      "Sum of random values in a 1th month is 14097\n",
      "Sum of random values in a 2th month is 11472\n",
      "Sum of random values in a 3th month is 13349\n",
      "Sum of random values in a 4th month is 10497\n",
      "Sum of random values in a 5th month is 12434\n",
      "Sum of random values in a 6th month is 10565\n",
      "Sum of random values in a 7th month is 14159\n",
      "Sum of random values in a 8th month is 11994\n",
      "Sum of random values in a 9th month is 9923\n",
      "Sum of random values in a 10th month is 10043\n",
      "Sum of random values in a 11th month is 12743\n",
      "Sum of random values in a 12th month is 11070\n"
     ]
    }
   ],
   "source": [
    "for i in varSeries2.Month.unique():\n",
    "    print('Sum of random values in a {}th month is {}'.format(i,varSeries2[varSeries2.Month == i].RandomNo.sum()))"
   ]
  },
  {
   "cell_type": "markdown",
   "metadata": {},
   "source": [
    "<h3>\n",
    "    Task 2 - 5\n",
    "    For each group of four consecutive calendar months in series, find the date on which the highest value occured\n",
    "</h3>"
   ]
  },
  {
   "cell_type": "code",
   "execution_count": 217,
   "metadata": {},
   "outputs": [
    {
     "name": "stdout",
     "output_type": "stream",
     "text": [
      "Sum of random values in a 1th Quarter is 38918\n",
      "Sum of random values in a 2th Quarter is 33496\n",
      "Sum of random values in a 3th Quarter is 36076\n",
      "Sum of random values in a 4th Quarter is 33856\n"
     ]
    }
   ],
   "source": [
    "for i in varSeries2.Quarter.unique():\n",
    "    print('Sum of random values in a {}th Quarter is {}'.format(i,varSeries2[varSeries2.Quarter == i].RandomNo.sum()))"
   ]
  }
 ],
 "metadata": {
  "kernelspec": {
   "display_name": "Python 3",
   "language": "python",
   "name": "python3"
  },
  "language_info": {
   "codemirror_mode": {
    "name": "ipython",
    "version": 3
   },
   "file_extension": ".py",
   "mimetype": "text/x-python",
   "name": "python",
   "nbconvert_exporter": "python",
   "pygments_lexer": "ipython3",
   "version": "3.7.1"
  }
 },
 "nbformat": 4,
 "nbformat_minor": 2
}
